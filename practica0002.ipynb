{
 "cells": [
  {
   "cell_type": "code",
   "id": "28845814",
   "metadata": {
    "ExecuteTime": {
     "end_time": "2025-05-17T01:27:00.209989Z",
     "start_time": "2025-05-17T01:27:00.205961Z"
    }
   },
   "source": [
    "# Cargar librerías\n",
    "import pandas as pd\n",
    "import numpy as np\n",
    "from sklearn.linear_model import LogisticRegression\n",
    "from sklearn.preprocessing import StandardScaler\n",
    "from sklearn.pipeline import Pipeline\n",
    "from sklearn.model_selection import train_test_split\n",
    "from sklearn.metrics import accuracy_score, precision_score\n",
    "import mlflow\n",
    "import mlflow.sklearn\n"
   ],
   "outputs": [],
   "execution_count": 19
  },
  {
   "cell_type": "code",
   "id": "da619e05",
   "metadata": {
    "ExecuteTime": {
     "end_time": "2025-05-17T01:27:00.239974Z",
     "start_time": "2025-05-17T01:27:00.224726Z"
    }
   },
   "source": [
    "# Leer datos\n",
    "df = pd.read_csv(\"data/diabetes.csv\")\n",
    "\n"
   ],
   "outputs": [],
   "execution_count": 20
  },
  {
   "cell_type": "code",
   "id": "f287d4ff-786f-400c-acbd-06af393ea280",
   "metadata": {
    "ExecuteTime": {
     "end_time": "2025-05-17T01:27:00.286576Z",
     "start_time": "2025-05-17T01:27:00.273034Z"
    }
   },
   "source": [
    "# identifica las columnas que tiene valores 0\n",
    "(df==0).sum()"
   ],
   "outputs": [
    {
     "data": {
      "text/plain": [
       "Pregnancies                 111\n",
       "Glucose                       5\n",
       "BloodPressure                35\n",
       "SkinThickness               227\n",
       "Insulin                     374\n",
       "BMI                          11\n",
       "DiabetesPedigreeFunction      0\n",
       "Age                           0\n",
       "Outcome                     500\n",
       "dtype: int64"
      ]
     },
     "execution_count": 21,
     "metadata": {},
     "output_type": "execute_result"
    }
   ],
   "execution_count": 21
  },
  {
   "cell_type": "code",
   "id": "9d063202-3384-456c-8bbf-924911f25144",
   "metadata": {
    "ExecuteTime": {
     "end_time": "2025-05-17T01:27:00.379400Z",
     "start_time": "2025-05-17T01:27:00.366367Z"
    }
   },
   "source": [
    "# Reemplazar ceros en columnas específicas por NaN\n",
    "cols_to_clean = ['Glucose', 'BloodPressure', 'SkinThickness', 'Insulin']\n",
    "# No se consideran algunas, por ejemplo Pregnancies (por qué si es posible que se tengan cero embarazos)\n",
    "\n",
    "# Reemplazar ceros por NaN para poder tratarlos como datos faltantes\n",
    "for col in cols_to_clean:\n",
    "    df[col] = df[col].replace(0, np.nan)\n",
    "\n",
    "# Reemplazar NaN con la moda (valor más frecuente) de cada columna\n",
    "for col in cols_to_clean:\n",
    "    moda = df[col].mode()[0]\n",
    "    df[col] = df[col].fillna(moda)\n"
   ],
   "outputs": [],
   "execution_count": 22
  },
  {
   "cell_type": "code",
   "id": "4be9af71",
   "metadata": {
    "ExecuteTime": {
     "end_time": "2025-05-17T01:27:00.470764Z",
     "start_time": "2025-05-17T01:27:00.454355Z"
    }
   },
   "source": [
    "# Separar datos\n",
    "X = df.drop(\"Outcome\", axis=1)\n",
    "y = df[\"Outcome\"]\n",
    "\n",
    "X_train, X_test, y_train, y_test = train_test_split(X, y, test_size=0.2, random_state=42)\n"
   ],
   "outputs": [],
   "execution_count": 23
  },
  {
   "metadata": {
    "ExecuteTime": {
     "end_time": "2025-05-17T01:27:03.149971Z",
     "start_time": "2025-05-17T01:27:00.550914Z"
    }
   },
   "cell_type": "code",
   "source": [
    "# agregar el traking uri de mlflow\n",
    "mlflow.set_tracking_uri(\"http://localhost:9090\")\n",
    "\n",
    "# Crear experimento\n",
    "mlflow.create_experiment(name=\"ClasificadorDemoDiabetes\")\n",
    "\n",
    "# agregar set_experiment con nombre: ClasificadorDemoDiabetes\n",
    "mlflow.set_experiment(\"ClasificadorDemoDiabetes\")"
   ],
   "id": "ee6500fe-a589-4021-a1b0-68d0f1f742c7",
   "outputs": [
    {
     "data": {
      "text/plain": [
       "<Experiment: artifact_location='mlflow-artifacts:/1', creation_time=1747445223106, experiment_id='1', last_update_time=1747445223106, lifecycle_stage='active', name='ClasificadorDemoDiabetes', tags={}>"
      ]
     },
     "execution_count": 24,
     "metadata": {},
     "output_type": "execute_result"
    }
   ],
   "execution_count": 24
  },
  {
   "metadata": {
    "ExecuteTime": {
     "end_time": "2025-05-17T01:27:55.833108Z",
     "start_time": "2025-05-17T01:27:17.116125Z"
    }
   },
   "cell_type": "code",
   "source": [
    "# Entrenamiento y registro con MLflow\n",
    "C = 1.0\n",
    "max_iter = 1000\n",
    "# usar los parámetros del archivo logreg_variaciones_educativas.csv\n",
    "df = pd.read_csv(\"data/logreg_variaciones_educativas.csv\")\n",
    "# para los parámtros C, max_iter, solver y penalty de LogisticRegresion\n",
    "# se debe genear un run por cada fila del archivo, usando sus parámetros\n",
    "# Analizar que usar\n",
    "\n",
    "\n",
    "# agregar la línea del start_run\n",
    "for index, row in df.iterrows():\n",
    "    C = row[\"logreg_C\"]\n",
    "    max_iter = row[\"logreg_max_iter\"]\n",
    "    solver = row[\"solver\"]\n",
    "    penalty = row[\"penalty\"]\n",
    "    with mlflow.start_run():\n",
    "        # El pipeline usar StandarScaler para que todos los valore numéricos estén en la misma escala\n",
    "        # no cambiar dicha línea\n",
    "        # LogisticRegresion deben variar sus parámetros en cada iteración.\n",
    "        pipeline = Pipeline([\n",
    "                (\"scaler\", StandardScaler()),\n",
    "                (\"clf\", LogisticRegression(\n",
    "                    C=1.0,\n",
    "                    max_iter=1000,\n",
    "                    solver=\"liblinear\",\n",
    "                    penalty=\"l2\"\n",
    "                ))\n",
    "            ])\n",
    "\n",
    "        # Entrenar y evaluar\n",
    "        pipeline.fit(X_train, y_train)\n",
    "        y_pred = pipeline.predict(X_test)\n",
    "\n",
    "        acc = accuracy_score(y_test, y_pred)\n",
    "        prec = precision_score(y_test, y_pred)\n",
    "\n",
    "        # recuerde que log_param y log_metric debe ir guardando los valores\n",
    "        # dependiendo del run correspondiente de cada fila\n",
    "        mlflow.log_param(\"logreg_C\", C)\n",
    "        mlflow.log_param(\"logreg_max_iter\", max_iter)\n",
    "        mlflow.log_param(\"solver\", \"liblinear\")\n",
    "        mlflow.log_param(\"penalty\", \"l2\")\n",
    "\n",
    "        mlflow.log_metric(\"accuracy\", acc)\n",
    "        mlflow.log_metric(\"precision\", prec)\n",
    "\n",
    "        # Guardar el pipeline completo\n",
    "        mlflow.sklearn.log_model(pipeline, \"modelo_pipeline\")\n",
    "\n",
    "        print(\" Modelo registrado en MLflow\")\n",
    "        print(f\"Accuracy: {acc:.4f} | Precision: {prec:.4f}\")\n"
   ],
   "id": "c5784cd6",
   "outputs": [
    {
     "name": "stderr",
     "output_type": "stream",
     "text": [
      "2025/05/16 20:27:22 WARNING mlflow.models.model: Model logged without a signature and input example. Please set `input_example` parameter when logging the model to auto infer the model signature.\n"
     ]
    },
    {
     "name": "stdout",
     "output_type": "stream",
     "text": [
      " Modelo registrado en MLflow\n",
      "Accuracy: 0.7532 | Precision: 0.6667\n",
      "🏃 View run thundering-tern-784 at: http://localhost:9090/#/experiments/1/runs/daf462a531ac4dd49da247332c6df68f\n",
      "🧪 View experiment at: http://localhost:9090/#/experiments/1\n"
     ]
    },
    {
     "name": "stderr",
     "output_type": "stream",
     "text": [
      "2025/05/16 20:27:26 WARNING mlflow.models.model: Model logged without a signature and input example. Please set `input_example` parameter when logging the model to auto infer the model signature.\n"
     ]
    },
    {
     "name": "stdout",
     "output_type": "stream",
     "text": [
      " Modelo registrado en MLflow\n",
      "Accuracy: 0.7532 | Precision: 0.6667\n",
      "🏃 View run casual-trout-492 at: http://localhost:9090/#/experiments/1/runs/51bcdf71c01c41609df80257a262bcc1\n",
      "🧪 View experiment at: http://localhost:9090/#/experiments/1\n"
     ]
    },
    {
     "name": "stderr",
     "output_type": "stream",
     "text": [
      "2025/05/16 20:27:30 WARNING mlflow.models.model: Model logged without a signature and input example. Please set `input_example` parameter when logging the model to auto infer the model signature.\n"
     ]
    },
    {
     "name": "stdout",
     "output_type": "stream",
     "text": [
      " Modelo registrado en MLflow\n",
      "Accuracy: 0.7532 | Precision: 0.6667\n",
      "🏃 View run amazing-ray-531 at: http://localhost:9090/#/experiments/1/runs/56a1061adef34390adab7710dd2ba8d6\n",
      "🧪 View experiment at: http://localhost:9090/#/experiments/1\n"
     ]
    },
    {
     "name": "stderr",
     "output_type": "stream",
     "text": [
      "2025/05/16 20:27:33 WARNING mlflow.models.model: Model logged without a signature and input example. Please set `input_example` parameter when logging the model to auto infer the model signature.\n"
     ]
    },
    {
     "name": "stdout",
     "output_type": "stream",
     "text": [
      " Modelo registrado en MLflow\n",
      "Accuracy: 0.7532 | Precision: 0.6667\n",
      "🏃 View run adventurous-gnat-501 at: http://localhost:9090/#/experiments/1/runs/623102e73b3345d88309e8282abb6b0d\n",
      "🧪 View experiment at: http://localhost:9090/#/experiments/1\n"
     ]
    },
    {
     "name": "stderr",
     "output_type": "stream",
     "text": [
      "2025/05/16 20:27:37 WARNING mlflow.models.model: Model logged without a signature and input example. Please set `input_example` parameter when logging the model to auto infer the model signature.\n"
     ]
    },
    {
     "name": "stdout",
     "output_type": "stream",
     "text": [
      " Modelo registrado en MLflow\n",
      "Accuracy: 0.7532 | Precision: 0.6667\n",
      "🏃 View run entertaining-jay-168 at: http://localhost:9090/#/experiments/1/runs/c1f559c352024a519427924d641c9337\n",
      "🧪 View experiment at: http://localhost:9090/#/experiments/1\n"
     ]
    },
    {
     "name": "stderr",
     "output_type": "stream",
     "text": [
      "2025/05/16 20:27:41 WARNING mlflow.models.model: Model logged without a signature and input example. Please set `input_example` parameter when logging the model to auto infer the model signature.\n"
     ]
    },
    {
     "name": "stdout",
     "output_type": "stream",
     "text": [
      " Modelo registrado en MLflow\n",
      "Accuracy: 0.7532 | Precision: 0.6667\n",
      "🏃 View run melodic-grub-289 at: http://localhost:9090/#/experiments/1/runs/a3365f302335472fabaab244f6b5bbeb\n",
      "🧪 View experiment at: http://localhost:9090/#/experiments/1\n"
     ]
    },
    {
     "name": "stderr",
     "output_type": "stream",
     "text": [
      "2025/05/16 20:27:44 WARNING mlflow.models.model: Model logged without a signature and input example. Please set `input_example` parameter when logging the model to auto infer the model signature.\n"
     ]
    },
    {
     "name": "stdout",
     "output_type": "stream",
     "text": [
      " Modelo registrado en MLflow\n",
      "Accuracy: 0.7532 | Precision: 0.6667\n",
      "🏃 View run welcoming-toad-835 at: http://localhost:9090/#/experiments/1/runs/8cbfe7691e6b4aacbcfba5a9a5b7b513\n",
      "🧪 View experiment at: http://localhost:9090/#/experiments/1\n"
     ]
    },
    {
     "name": "stderr",
     "output_type": "stream",
     "text": [
      "2025/05/16 20:27:48 WARNING mlflow.models.model: Model logged without a signature and input example. Please set `input_example` parameter when logging the model to auto infer the model signature.\n"
     ]
    },
    {
     "name": "stdout",
     "output_type": "stream",
     "text": [
      " Modelo registrado en MLflow\n",
      "Accuracy: 0.7532 | Precision: 0.6667\n",
      "🏃 View run crawling-boar-968 at: http://localhost:9090/#/experiments/1/runs/ed53e52d8b0540c48ed9f2ff420ea414\n",
      "🧪 View experiment at: http://localhost:9090/#/experiments/1\n"
     ]
    },
    {
     "name": "stderr",
     "output_type": "stream",
     "text": [
      "2025/05/16 20:27:51 WARNING mlflow.models.model: Model logged without a signature and input example. Please set `input_example` parameter when logging the model to auto infer the model signature.\n"
     ]
    },
    {
     "name": "stdout",
     "output_type": "stream",
     "text": [
      " Modelo registrado en MLflow\n",
      "Accuracy: 0.7532 | Precision: 0.6667\n",
      "🏃 View run luxuriant-snake-202 at: http://localhost:9090/#/experiments/1/runs/c127f4806ae3483da7c659750f0d17fe\n",
      "🧪 View experiment at: http://localhost:9090/#/experiments/1\n"
     ]
    },
    {
     "name": "stderr",
     "output_type": "stream",
     "text": [
      "2025/05/16 20:27:55 WARNING mlflow.models.model: Model logged without a signature and input example. Please set `input_example` parameter when logging the model to auto infer the model signature.\n"
     ]
    },
    {
     "name": "stdout",
     "output_type": "stream",
     "text": [
      " Modelo registrado en MLflow\n",
      "Accuracy: 0.7532 | Precision: 0.6667\n",
      "🏃 View run enthused-moose-396 at: http://localhost:9090/#/experiments/1/runs/e7b4072183d04e0d986c5da639361e0a\n",
      "🧪 View experiment at: http://localhost:9090/#/experiments/1\n"
     ]
    }
   ],
   "execution_count": 26
  },
  {
   "cell_type": "code",
   "id": "06c9eb27-a3f2-4e14-b2bc-e308fc71514b",
   "metadata": {},
   "source": [],
   "outputs": [],
   "execution_count": null
  }
 ],
 "metadata": {
  "kernelspec": {
   "display_name": "Python 3 (ipykernel)",
   "language": "python",
   "name": "python3"
  },
  "language_info": {
   "codemirror_mode": {
    "name": "ipython",
    "version": 3
   },
   "file_extension": ".py",
   "mimetype": "text/x-python",
   "name": "python",
   "nbconvert_exporter": "python",
   "pygments_lexer": "ipython3",
   "version": "3.10.12"
  }
 },
 "nbformat": 4,
 "nbformat_minor": 5
}
